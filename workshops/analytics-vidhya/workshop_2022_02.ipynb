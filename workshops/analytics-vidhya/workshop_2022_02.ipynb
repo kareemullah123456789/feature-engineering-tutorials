{
 "cells": [
  {
   "cell_type": "markdown",
   "metadata": {},
   "source": [
    "# Feature Engineering Workshop for Analytics Vidhya"
   ]
  },
  {
   "cell_type": "markdown",
   "metadata": {},
   "source": [
    "This wokshop will walk through incrementally building feature from transactional data for a customer behavior use case. The data is synthetic and was created to support a churn use case.\n",
    "\n",
    "This notebook can be found [here](https://github.com/rasgointelligence/feature-engineering-tutorials/tree/main/workshops/analytics-vidhya/workshop_2022_02.ipynb)"
   ]
  },
  {
   "cell_type": "markdown",
   "metadata": {},
   "source": [
    "## Packages"
   ]
  },
  {
   "cell_type": "markdown",
   "metadata": {},
   "source": [
    "The documentation for each packaged used in this tutorial is linked below:\n",
    "* [numpy](https://numpy.org/doc/stable/)\n",
    "* [pandas](https://pandas.pydata.org/docs/)\n",
    "* [scikit-learn](https://scikit-learn.org/stable/)\n",
    "    * [sklearn.preprocessing](https://scikit-learn.org/stable/modules/classes.html#module-sklearn.preprocessing)\n",
    "* [category_encoders](https://contrib.scikit-learn.org/category_encoders/)"
   ]
  },
  {
   "cell_type": "code",
   "execution_count": null,
   "metadata": {},
   "outputs": [],
   "source": [
    "import numpy as np\n",
    "import pandas as pd\n",
    "from sklearn.preprocessing import OneHotEncoder\n",
    "import category_encoders as ce"
   ]
  },
  {
   "cell_type": "markdown",
   "metadata": {},
   "source": [
    "## Get customer and transaction data"
   ]
  },
  {
   "cell_type": "markdown",
   "metadata": {},
   "source": [
    "Grab customer and transcation data from GitHub repo and "
   ]
  },
  {
   "cell_type": "code",
   "execution_count": null,
   "metadata": {},
   "outputs": [],
   "source": [
    "customer_url = \"https://raw.githubusercontent.com/engelAnalytics/feature-engineering/main/data/churn/customer.csv\"\n",
    "transactions_url = \"https://raw.githubusercontent.com/engelAnalytics/feature-engineering/main/data/churn/transactions.csv\"\n",
    "\n",
    "customer = pd.read_csv(customer_url, parse_dates=['Birthdate', 'Churn_date'])\n",
    "transactions = pd.read_csv(transactions_url, parse_dates=['Transaction_Date'])\n",
    "customer.columns"
   ]
  },
  {
   "cell_type": "code",
   "execution_count": null,
   "metadata": {},
   "outputs": [],
   "source": [
    "transactions.columns"
   ]
  },
  {
   "cell_type": "markdown",
   "metadata": {},
   "source": [
    "## Create moving aggregates"
   ]
  },
  {
   "cell_type": "markdown",
   "metadata": {},
   "source": []
  },
  {
   "cell_type": "code",
   "execution_count": null,
   "metadata": {},
   "outputs": [],
   "source": [
    "rolling_window_180 = transactions.sort_values(by=['CustomerID', 'Transaction_Date']).set_index('Transaction_Date').groupby('CustomerID').rolling('180D', closed='both')"
   ]
  },
  {
   "cell_type": "markdown",
   "metadata": {},
   "source": []
  },
  {
   "cell_type": "code",
   "execution_count": null,
   "metadata": {},
   "outputs": [],
   "source": [
    "agg_df = pd.DataFrame()\n",
    "agg_df['Cost_min_180D'] = rolling_window_180[\"Cost\"].min()\n",
    "agg_df['Cost_max_180D'] = rolling_window_180[\"Cost\"].max()\n",
    "agg_df['Cost_mean_180D'] = rolling_window_180[\"Cost\"].mean()\n",
    "agg_df['Cost_std_180D'] = rolling_window_180[\"Cost\"].std()\n",
    "agg_df['Cost_sum_180D'] = rolling_window_180[\"Cost\"].sum()"
   ]
  },
  {
   "cell_type": "markdown",
   "metadata": {},
   "source": []
  },
  {
   "cell_type": "code",
   "execution_count": null,
   "metadata": {},
   "outputs": [],
   "source": [
    "agg_df['Purchase_count_180D'] = rolling_window_180[\"Cost\"].count()"
   ]
  },
  {
   "cell_type": "markdown",
   "metadata": {},
   "source": []
  },
  {
   "cell_type": "code",
   "execution_count": null,
   "metadata": {},
   "outputs": [],
   "source": [
    "transactions.merge(agg_df.reset_index(), on=['CustomerID', 'Transaction_Date'], how='left').head(20)"
   ]
  },
  {
   "cell_type": "markdown",
   "metadata": {},
   "source": [
    "### Product level aggregations"
   ]
  },
  {
   "cell_type": "markdown",
   "metadata": {},
   "source": []
  },
  {
   "cell_type": "code",
   "execution_count": null,
   "metadata": {},
   "outputs": [],
   "source": [
    "prod_df = pd.DataFrame()\n",
    "for prod in sorted(transactions['Product'].unique()):\n",
    "    product_window_180 = transactions[transactions.Product == prod].sort_values(by=['Transaction_Date']).set_index('Transaction_Date').rolling('180D', closed='left')\n",
    "    \n",
    "    tmpdf = pd.DataFrame()\n",
    "    tmpdf['Product_Cost_mean_180D'] = product_window_180[\"Cost\"].mean()\n",
    "    tmpdf['Product_Cost_std_180D'] = product_window_180[\"Cost\"].std()\n",
    "    tmpdf['Product_count_180D'] = product_window_180[\"Product_Count\"].count()\n",
    "    tmpdf['Product'] = prod\n",
    "    \n",
    "    tmpdf = tmpdf.reset_index().sort_values(by=['Transaction_Date', 'Product_count_180D']).drop_duplicates(subset=['Transaction_Date'], keep='first')\n",
    "    prod_df = pd.concat([prod_df, tmpdf])\n",
    "    \n",
    "prod_df.head()"
   ]
  },
  {
   "cell_type": "markdown",
   "metadata": {},
   "source": []
  },
  {
   "cell_type": "code",
   "execution_count": null,
   "metadata": {},
   "outputs": [],
   "source": [
    "transactions.merge(prod_df, on=['Product', 'Transaction_Date'], how='left').sort_values(by=['Product', 'Transaction_Date']).head(20)"
   ]
  },
  {
   "cell_type": "markdown",
   "metadata": {},
   "source": [
    "### State level aggregations"
   ]
  },
  {
   "cell_type": "markdown",
   "metadata": {},
   "source": []
  },
  {
   "cell_type": "code",
   "execution_count": null,
   "metadata": {},
   "outputs": [],
   "source": [
    "full_transactions = transactions.merge(customer, on=['CustomerID'], how='left')"
   ]
  },
  {
   "cell_type": "markdown",
   "metadata": {},
   "source": []
  },
  {
   "cell_type": "code",
   "execution_count": null,
   "metadata": {},
   "outputs": [],
   "source": [
    "state_df = pd.DataFrame()\n",
    "for state in sorted(full_transactions['State'].unique()):\n",
    "    state_window_180 = full_transactions[full_transactions.State == state].sort_values(by=['Transaction_Date']).set_index('Transaction_Date').rolling('180D', closed='left')\n",
    "    \n",
    "    tmpdf = pd.DataFrame()\n",
    "    tmpdf['State_Cost_mean_180D'] = state_window_180[\"Cost\"].mean()\n",
    "    tmpdf['State_Cost_std_180D'] = state_window_180[\"Cost\"].std()\n",
    "    tmpdf['State_count_180D'] = state_window_180[\"Product_Count\"].count()\n",
    "    tmpdf['State'] = state\n",
    "    \n",
    "    tmpdf = tmpdf.reset_index().sort_values(by=['Transaction_Date', 'State_count_180D']).drop_duplicates(subset=['Transaction_Date'], keep='first')\n",
    "    state_df = pd.concat([state_df, tmpdf])\n",
    "    \n",
    "state_df.head()"
   ]
  },
  {
   "cell_type": "markdown",
   "metadata": {},
   "source": [
    "## Merge data"
   ]
  },
  {
   "cell_type": "markdown",
   "metadata": {},
   "source": []
  },
  {
   "cell_type": "code",
   "execution_count": null,
   "metadata": {},
   "outputs": [],
   "source": [
    "transdf = transactions.merge(customer, on=['CustomerID'], how='left')"
   ]
  },
  {
   "cell_type": "markdown",
   "metadata": {},
   "source": []
  },
  {
   "cell_type": "code",
   "execution_count": null,
   "metadata": {},
   "outputs": [],
   "source": [
    "transdf = transdf.merge(agg_df.reset_index(), on=['CustomerID', 'Transaction_Date'], how='left')"
   ]
  },
  {
   "cell_type": "markdown",
   "metadata": {},
   "source": []
  },
  {
   "cell_type": "code",
   "execution_count": null,
   "metadata": {},
   "outputs": [],
   "source": [
    "transdf = transdf.merge(prod_df, on=['Product', 'Transaction_Date'], how='left')"
   ]
  },
  {
   "cell_type": "markdown",
   "metadata": {},
   "source": []
  },
  {
   "cell_type": "code",
   "execution_count": null,
   "metadata": {},
   "outputs": [],
   "source": [
    "transdf = transdf.merge(state_df, on=['State', 'Transaction_Date'], how='left')\n",
    "\n",
    "transdf.head(20)"
   ]
  },
  {
   "cell_type": "markdown",
   "metadata": {},
   "source": [
    "## Ratios, differences and distances"
   ]
  },
  {
   "cell_type": "markdown",
   "metadata": {},
   "source": []
  },
  {
   "cell_type": "code",
   "execution_count": null,
   "metadata": {},
   "outputs": [],
   "source": [
    "transdf['Cost_ratio'] = transdf['Cost'] / transdf['Cost_mean_180D']"
   ]
  },
  {
   "cell_type": "markdown",
   "metadata": {},
   "source": []
  },
  {
   "cell_type": "code",
   "execution_count": null,
   "metadata": {},
   "outputs": [],
   "source": [
    "transdf['Cost_distance'] = (transdf['Cost'] - transdf['Cost_mean_180D']) / transdf['Cost_std_180D']"
   ]
  },
  {
   "cell_type": "markdown",
   "metadata": {},
   "source": []
  },
  {
   "cell_type": "code",
   "execution_count": null,
   "metadata": {},
   "outputs": [],
   "source": [
    "transdf['Cost_distance_mag'] = np.abs(transdf['Cost_distance'])"
   ]
  },
  {
   "cell_type": "markdown",
   "metadata": {},
   "source": []
  },
  {
   "cell_type": "code",
   "execution_count": null,
   "metadata": {},
   "outputs": [],
   "source": [
    "transdf['Cost_ratio_product'] = transdf['Cost'] / transdf['Product_Cost_mean_180D']\n",
    "transdf['Cost_distance_product'] = (transdf['Cost'] - transdf['Product_Cost_mean_180D']) / transdf['Product_Cost_std_180D']\n",
    "transdf['Cost_distance_product_mag'] = np.abs(transdf['Cost_distance_product'])"
   ]
  },
  {
   "cell_type": "markdown",
   "metadata": {},
   "source": []
  },
  {
   "cell_type": "code",
   "execution_count": null,
   "metadata": {},
   "outputs": [],
   "source": [
    "transdf['Cost_ratio_state'] = transdf['Cost'] / transdf['State_Cost_mean_180D']\n",
    "transdf['Cost_distance_state'] = (transdf['Cost'] - transdf['State_Cost_mean_180D']) / transdf['State_Cost_std_180D']\n",
    "transdf['Cost_distance_state_mag'] = np.abs(transdf['Cost_distance_state'])"
   ]
  },
  {
   "cell_type": "code",
   "execution_count": null,
   "metadata": {},
   "outputs": [],
   "source": [
    "transdf.head(20)"
   ]
  },
  {
   "cell_type": "markdown",
   "metadata": {},
   "source": [
    "## Lags"
   ]
  },
  {
   "cell_type": "markdown",
   "metadata": {},
   "source": []
  },
  {
   "cell_type": "code",
   "execution_count": null,
   "metadata": {},
   "outputs": [],
   "source": [
    "custgroup = transdf.groupby('CustomerID')"
   ]
  },
  {
   "cell_type": "markdown",
   "metadata": {},
   "source": []
  },
  {
   "cell_type": "code",
   "execution_count": null,
   "metadata": {},
   "outputs": [],
   "source": [
    "transdf['Cost_lag_1'] = custgroup['Cost'].shift(1)\n",
    "transdf['Date_lag_1'] = custgroup['Transaction_Date'].shift(1)"
   ]
  },
  {
   "cell_type": "markdown",
   "metadata": {},
   "source": []
  },
  {
   "cell_type": "code",
   "execution_count": null,
   "metadata": {},
   "outputs": [],
   "source": [
    "transdf['Date_Delta_1'] = (transdf['Transaction_Date'] - transdf['Date_lag_1']).dt.days"
   ]
  },
  {
   "cell_type": "markdown",
   "metadata": {},
   "source": []
  },
  {
   "cell_type": "code",
   "execution_count": null,
   "metadata": {},
   "outputs": [],
   "source": [
    "transdf['Cost_distance_lag_1'] = custgroup['Cost_distance'].shift(1)"
   ]
  },
  {
   "cell_type": "markdown",
   "metadata": {},
   "source": []
  },
  {
   "cell_type": "code",
   "execution_count": null,
   "metadata": {},
   "outputs": [],
   "source": [
    "transdf['Cost_delta_1'] = transdf['Cost'] - transdf['Cost_lag_1']"
   ]
  },
  {
   "cell_type": "markdown",
   "metadata": {},
   "source": []
  },
  {
   "cell_type": "code",
   "execution_count": null,
   "metadata": {},
   "outputs": [],
   "source": [
    "transdf['Cost_velocity_days'] = transdf['Cost_delta_1'] / transdf['Date_Delta_1']"
   ]
  },
  {
   "cell_type": "markdown",
   "metadata": {},
   "source": []
  },
  {
   "cell_type": "code",
   "execution_count": null,
   "metadata": {},
   "outputs": [],
   "source": [
    "transdf['Cost_velocity_days_lag_1'] = custgroup['Cost_velocity_days'].shift(1)\n",
    "transdf['Cost_velocity_days_delta_1'] = transdf['Cost_velocity_days'] - transdf['Cost_velocity_days_lag_1']"
   ]
  },
  {
   "cell_type": "markdown",
   "metadata": {},
   "source": []
  },
  {
   "cell_type": "code",
   "execution_count": null,
   "metadata": {},
   "outputs": [],
   "source": [
    "transdf['Cost_acceleration_days'] = transdf['Cost_velocity_days_delta_1'] / transdf['Date_Delta_1']"
   ]
  },
  {
   "cell_type": "markdown",
   "metadata": {},
   "source": []
  },
  {
   "cell_type": "code",
   "execution_count": null,
   "metadata": {},
   "outputs": [],
   "source": [
    "transdf['Cost_lag_2'] = custgroup['Cost'].shift(2)\n",
    "transdf['Date_lag_2'] = custgroup['Transaction_Date'].shift(2)\n",
    "transdf['Date_Delta_2'] = (transdf['Transaction_Date'] - transdf['Date_lag_2']).dt.days\n",
    "transdf['Cost_distance_lag_2'] = custgroup['Cost_distance'].shift(2)\n",
    "transdf['Cost_delta_2'] = transdf['Cost'] - transdf['Cost_lag_2']"
   ]
  },
  {
   "cell_type": "markdown",
   "metadata": {},
   "source": []
  },
  {
   "cell_type": "code",
   "execution_count": null,
   "metadata": {},
   "outputs": [],
   "source": [
    "transdf['Cost_velocity_days_2'] = transdf['Cost_delta_2'] / transdf['Date_Delta_2']\n",
    "transdf['Cost_velocity_transactions_2'] = transdf['Cost_delta_2'] / 2"
   ]
  },
  {
   "cell_type": "markdown",
   "metadata": {},
   "source": []
  },
  {
   "cell_type": "code",
   "execution_count": null,
   "metadata": {},
   "outputs": [],
   "source": [
    "transdf['Cost_lag_3'] = custgroup['Cost'].shift(3)\n",
    "transdf['Cost_lag_4'] = custgroup['Cost'].shift(4)"
   ]
  },
  {
   "cell_type": "markdown",
   "metadata": {},
   "source": []
  },
  {
   "cell_type": "code",
   "execution_count": null,
   "metadata": {},
   "outputs": [],
   "source": [
    "transdf['Cost_moving_average_4'] = (5*transdf['Cost'] + 4*transdf['Cost_lag_1'] + 3*transdf['Cost_lag_2'] + 2*transdf['Cost_lag_3'] + transdf['Cost_lag_4'])/15"
   ]
  },
  {
   "cell_type": "markdown",
   "metadata": {},
   "source": [
    "## Categorical trend variables"
   ]
  },
  {
   "cell_type": "markdown",
   "metadata": {},
   "source": []
  },
  {
   "cell_type": "code",
   "execution_count": null,
   "metadata": {},
   "outputs": [],
   "source": [
    "def trend_string(row):\n",
    "    \"\"\"Use the lag variables from cost to create a string representing the trends. \n",
    "'=' - value remains the same, \n",
    "'+' - value increasing, \n",
    "'-' - value decreasing.\n",
    "\"\"\"\n",
    "    \n",
    "    trend = ''\n",
    "    if np.isnan(row['Cost_lag_1']):\n",
    "        trend = ' '\n",
    "    elif row['Cost'] > row['Cost_lag_1']:\n",
    "        trend = '+'\n",
    "    elif row['Cost'] < row['Cost_lag_1']:\n",
    "        trend = '-'\n",
    "    else:\n",
    "        trend = '='\n",
    "    \n",
    "    if np.isnan(row['Cost_lag_2']):\n",
    "        trend += ' '\n",
    "    elif row['Cost_lag_1'] > row['Cost_lag_2']:\n",
    "        trend += '+'\n",
    "    elif row['Cost_lag_1'] < row['Cost_lag_2']:\n",
    "        trend += '-'\n",
    "    else:\n",
    "        trend += '='\n",
    "    \n",
    "    if np.isnan(row['Cost_lag_3']):\n",
    "        trend += ' '\n",
    "    elif row['Cost_lag_2'] > row['Cost_lag_3']:\n",
    "        trend += '+'\n",
    "    elif row['Cost_lag_2'] < row['Cost_lag_3']:\n",
    "        trend += '-'\n",
    "    else:\n",
    "        trend += '='\n",
    "        \n",
    "    if np.isnan(row['Cost_lag_4']):\n",
    "        trend += ' '\n",
    "    elif row['Cost_lag_3'] > row['Cost_lag_4']:\n",
    "        trend += '+'\n",
    "    elif row['Cost_lag_3'] < row['Cost_lag_4']:\n",
    "        trend += '-'\n",
    "    else:\n",
    "        trend += '='\n",
    "    \n",
    "    return trend"
   ]
  },
  {
   "cell_type": "markdown",
   "metadata": {},
   "source": []
  },
  {
   "cell_type": "code",
   "execution_count": null,
   "metadata": {},
   "outputs": [],
   "source": [
    "transdf['Cost_trend'] = transdf.apply(trend_string, axis=1)\n",
    "\n",
    "transdf[['Cost', 'Cost_lag_1', 'Cost_lag_2', 'Cost_lag_3', 'Cost_lag_4', 'Cost_trend']].head(20)"
   ]
  },
  {
   "cell_type": "markdown",
   "metadata": {},
   "source": [
    "### Encoding Categorical Variables"
   ]
  },
  {
   "cell_type": "markdown",
   "metadata": {},
   "source": [
    "There are multiple ways to encode categorical variables. Before we explore these techniques, we need to setup our target and train-test split."
   ]
  },
  {
   "cell_type": "markdown",
   "metadata": {},
   "source": [
    "### Create target"
   ]
  },
  {
   "cell_type": "markdown",
   "metadata": {},
   "source": []
  },
  {
   "cell_type": "code",
   "execution_count": null,
   "metadata": {},
   "outputs": [],
   "source": [
    "transdf['Days_to_Churn'] = (transdf['Churn_date'] - transdf['Transaction_Date']).dt.days\n",
    "transdf['Churn'] = transdf['Days_to_Churn'].apply(lambda x: 1 if not pd.isnull(x) and x <= 30 else 0)\n",
    "tmpdf = transdf[transdf.Churn_date.apply(lambda x: not pd.isnull(x))]\n",
    "tmpdf[['Transaction_Date', 'Churn_date', 'Churn']].tail()"
   ]
  },
  {
   "cell_type": "markdown",
   "metadata": {},
   "source": [
    "### Train-test split"
   ]
  },
  {
   "cell_type": "markdown",
   "metadata": {},
   "source": []
  },
  {
   "cell_type": "code",
   "execution_count": null,
   "metadata": {},
   "outputs": [],
   "source": [
    "min_date = transdf.Transaction_Date.min()\n",
    "max_date = transdf.Transaction_Date.max()\n",
    "print(\"Min:\", min_date, \"Max:\", max_date)"
   ]
  },
  {
   "cell_type": "markdown",
   "metadata": {},
   "source": []
  },
  {
   "cell_type": "code",
   "execution_count": null,
   "metadata": {},
   "outputs": [],
   "source": [
    "train_percent = .8\n",
    "time_between = max_date - min_date\n",
    "train_cutoff = min_date + train_percent*time_between\n",
    "train_cutoff"
   ]
  },
  {
   "cell_type": "markdown",
   "metadata": {},
   "source": []
  },
  {
   "cell_type": "code",
   "execution_count": null,
   "metadata": {},
   "outputs": [],
   "source": [
    "train_df = transdf[transdf.Transaction_Date <= train_cutoff]\n",
    "test_df = transdf[transdf.Transaction_Date > train_cutoff]\n",
    "print(\"Train:\", train_df.Transaction_Date.min(), train_df.Transaction_Date.max())\n",
    "print(\"Test:\", test_df.Transaction_Date.min(), test_df.Transaction_Date.max())"
   ]
  },
  {
   "cell_type": "markdown",
   "metadata": {},
   "source": [
    "### One-hot encoding"
   ]
  },
  {
   "cell_type": "code",
   "execution_count": null,
   "metadata": {},
   "outputs": [],
   "source": [
    "train_df.select_dtypes('object').columns"
   ]
  },
  {
   "cell_type": "markdown",
   "metadata": {},
   "source": []
  },
  {
   "cell_type": "code",
   "execution_count": null,
   "metadata": {},
   "outputs": [],
   "source": [
    "train_df_ohe = train_df[['Product', 'Gender']].copy()\n",
    "test_df_ohe = test_df[['Product', 'Gender']].copy()\n",
    "train_df_ohe.shape"
   ]
  },
  {
   "cell_type": "markdown",
   "metadata": {},
   "source": []
  },
  {
   "cell_type": "code",
   "execution_count": null,
   "metadata": {},
   "outputs": [],
   "source": [
    "oh_encoder = OneHotEncoder(handle_unknown=\"ignore\")\n",
    "train_df_ohe_encoded = oh_encoder.fit_transform(train_df_ohe)\n",
    "train_df_ohe_encoded.shape"
   ]
  },
  {
   "cell_type": "markdown",
   "metadata": {},
   "source": []
  },
  {
   "cell_type": "code",
   "execution_count": null,
   "metadata": {},
   "outputs": [],
   "source": [
    "test_df_ohe_encode = oh_encoder.transform(test_df_ohe)\n",
    "test_df_ohe_encode.shape"
   ]
  },
  {
   "cell_type": "markdown",
   "metadata": {},
   "source": [
    "### Target encoding"
   ]
  },
  {
   "cell_type": "markdown",
   "metadata": {},
   "source": []
  },
  {
   "cell_type": "code",
   "execution_count": null,
   "metadata": {},
   "outputs": [],
   "source": [
    "train_target = train_df['Churn']\n",
    "\n",
    "train_df_loo = train_df[['City', 'State', 'Cost_trend']].copy()\n",
    "test_df_loo = test_df[['City', 'State', 'Cost_trend']].copy()\n",
    "train_df_loo.shape"
   ]
  },
  {
   "cell_type": "markdown",
   "metadata": {},
   "source": []
  },
  {
   "cell_type": "code",
   "execution_count": null,
   "metadata": {},
   "outputs": [],
   "source": [
    "loo_encoder = ce.LeaveOneOutEncoder(return_df=True)\n",
    "train_df_loo_encode = loo_encoder.fit_transform(train_df_loo, train_target)\n",
    "train_df_loo_encode.shape"
   ]
  },
  {
   "cell_type": "markdown",
   "metadata": {},
   "source": []
  },
  {
   "cell_type": "code",
   "execution_count": null,
   "metadata": {},
   "outputs": [],
   "source": [
    "test_df_loo_encode = loo_encoder.transform(test_df_loo)\n",
    "test_df_loo_encode.shape"
   ]
  },
  {
   "cell_type": "code",
   "execution_count": null,
   "metadata": {},
   "outputs": [],
   "source": [
    "train_df_loo_encode.head()"
   ]
  }
 ],
 "metadata": {
  "kernelspec": {
   "display_name": "Python 3",
   "language": "python",
   "name": "python3"
  },
  "language_info": {
   "codemirror_mode": {
    "name": "ipython",
    "version": 3
   },
   "file_extension": ".py",
   "mimetype": "text/x-python",
   "name": "python",
   "nbconvert_exporter": "python",
   "pygments_lexer": "ipython3",
   "version": "3.7.10"
  }
 },
 "nbformat": 4,
 "nbformat_minor": 4
}
